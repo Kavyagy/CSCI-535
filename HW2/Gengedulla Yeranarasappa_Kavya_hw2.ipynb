{
 "cells": [
  {
   "cell_type": "markdown",
   "id": "8be6bf2a",
   "metadata": {},
   "source": [
    "##### Name: Kavya Gengedulla Yeranarasappa\n",
    "##### Github username: kavyagy\n",
    "##### USC ID: 3206274199\n"
   ]
  },
  {
   "cell_type": "code",
   "execution_count": 1,
   "id": "3210ad8e",
   "metadata": {},
   "outputs": [],
   "source": [
    "import pandas as pd\n",
    "from sklearn.model_selection import GridSearchCV, cross_val_predict, train_test_split\n",
    "from sklearn.metrics import classification_report, confusion_matrix, f1_score\n",
    "from sklearn.svm import SVC\n",
    "from sklearn.preprocessing import StandardScaler\n",
    "from imblearn.over_sampling import RandomOverSampler\n",
    "from sklearn.ensemble import RandomForestClassifier\n",
    "from sklearn.pipeline import make_pipeline\n",
    "from scipy.stats import mode\n",
    "import numpy as np\n",
    "import os\n",
    "import numpy as np\n",
    "import pandas as pd\n",
    "from sklearn.model_selection import GridSearchCV, cross_val_score, StratifiedKFold\n",
    "from sklearn.metrics import f1_score\n",
    "from sklearn.svm import SVC\n",
    "from sklearn.ensemble import RandomForestClassifier\n",
    "from sklearn.neural_network import MLPClassifier\n",
    "from sklearn.preprocessing import StandardScaler\n",
    "from sklearn.pipeline import Pipeline\n",
    "from sklearn.decomposition import PCA\n",
    "from skimage.measure import block_reduce\n",
    "from sklearn.model_selection import train_test_split, GridSearchCV, cross_val_score, StratifiedKFold\n",
    "from sklearn.metrics import f1_score, confusion_matrix\n",
    "from sklearn.svm import SVC\n",
    "from sklearn.ensemble import RandomForestClassifier\n",
    "from sklearn.pipeline import make_pipeline\n",
    "from sklearn.preprocessing import StandardScaler\n",
    "from imblearn.over_sampling import RandomOverSampler\n",
    "import matplotlib.pyplot as plt\n",
    "import seaborn as sns\n",
    "from sklearn.metrics import accuracy_score\n",
    "from sklearn.ensemble import VotingClassifier"
   ]
  },
  {
   "cell_type": "markdown",
   "id": "ccef315a",
   "metadata": {},
   "source": [
    "## 1a) Reading the IEMOCAP dataset and extractign the labels"
   ]
  },
  {
   "cell_type": "code",
   "execution_count": 2,
   "id": "48f7c3b2",
   "metadata": {},
   "outputs": [
    {
     "name": "stdout",
     "output_type": "stream",
     "text": [
      "(1336, 6)\n"
     ]
    }
   ],
   "source": [
    "dataset = pd.read_csv('dataset.csv')\n",
    "print(dataset.shape)"
   ]
  },
  {
   "cell_type": "code",
   "execution_count": 3,
   "id": "a2391b37",
   "metadata": {},
   "outputs": [
    {
     "name": "stdout",
     "output_type": "stream",
     "text": [
      "(1336,)\n",
      "(1336,)\n",
      "(1336, 768)\n",
      "(1336,)\n"
     ]
    }
   ],
   "source": [
    "# Extract features and labels\n",
    "base_directory = '.'\n",
    "\n",
    "# Load visual features\n",
    "X_visual = np.array([np.load(base_directory + fp) for fp in dataset['visual_features']], dtype=\"object\")\n",
    "\n",
    "# Load acoustic features\n",
    "X_audio = np.array([np.load(base_directory + fp) for fp in dataset['acoustic_features']], dtype=\"object\")\n",
    "\n",
    "# Load lexical features\n",
    "X_text = np.array([np.load(base_directory + fp) for fp in dataset['lexical_features']], dtype=\"object\")\n",
    "\n",
    "# Extract labels\n",
    "y = dataset['emotion_labels']\n",
    "\n",
    "print(X_visual.shape)\n",
    "print(X_audio.shape)\n",
    "print(X_text.shape)\n",
    "print(y.shape)"
   ]
  },
  {
   "cell_type": "markdown",
   "id": "a7749a96",
   "metadata": {},
   "source": [
    "## 1b) Applying mean pooling to audio and visual"
   ]
  },
  {
   "cell_type": "code",
   "execution_count": 4,
   "id": "5261e749",
   "metadata": {},
   "outputs": [
    {
     "name": "stdout",
     "output_type": "stream",
     "text": [
      "Result of mean pooling for X_video:\n",
      "[[-0.02337928 -0.23789907 -0.04487504 ... -0.02086512 -0.0458353\n",
      "  -0.10953884]\n",
      " [-0.17260942  0.11016683 -0.15991506 ...  0.01192388  0.10901881\n",
      "  -0.02703263]\n",
      " [ 0.20136312 -0.1200087   0.45775919 ...  0.42663874 -0.07298875\n",
      "   0.00669748]\n",
      " ...\n",
      " [ 0.34154055  0.64742594  0.67713938 ...  0.07752116  0.75052153\n",
      "   0.14769751]\n",
      " [-0.08008353 -0.06432546  0.37009722 ... -0.30255509  0.08057786\n",
      "  -0.14496143]\n",
      " [ 0.28249418  0.05505693  0.1557793  ...  0.10584674 -0.0954645\n",
      "   0.48159406]]\n",
      "Result of mean pooling for X_audio:\n",
      "[[-0.02412775  1.3312446  -1.0692344  ... -0.01661444  0.4902663\n",
      "  -0.48119876]\n",
      " [ 0.         -0.49074307  0.06893975 ...  0.         -0.77385956\n",
      "   0.5741296 ]\n",
      " [-0.02412775  1.463616    0.14719118 ... -0.01661444  0.7832034\n",
      "   0.7766514 ]\n",
      " ...\n",
      " [-0.02112799 -0.57605493 -0.3768546  ... -0.01357803  0.6162509\n",
      "  -0.31210086]\n",
      " [-0.02112799 -0.6948027   0.08765702 ... -0.01357803 -0.06176093\n",
      "  -0.38913798]\n",
      " [-0.02112799 -0.6948027  -1.2907813  ... -0.01357803  0.20421502\n",
      "  -0.26709098]]\n",
      "Result of  X_text:\n",
      "[[-1.110892653465271 -0.07684729993343353 -0.4928516447544098 ...\n",
      "  0.8613372445106506 0.8013200163841248 -0.6061952114105225]\n",
      " [0.1466159075498581 1.1383384466171265 0.1966845989227295 ...\n",
      "  -0.24765729904174805 -1.1808141469955444 2.160890579223633]\n",
      " [0.46573591232299805 -0.19075249135494232 1.067826509475708 ...\n",
      "  -0.3106188476085663 -1.287745475769043 -0.37452784180641174]\n",
      " ...\n",
      " [0.7274107933044434 1.7847570180892944 0.09090743213891983 ...\n",
      "  -1.4193166494369507 0.042728520929813385 -2.181428909301758]\n",
      " [-0.24862335622310638 -0.9932516813278198 -0.7378324866294861 ...\n",
      "  -0.6587058901786804 -1.8601821660995483 0.40108126401901245]\n",
      " [1.0191470384597778 -0.8459387421607971 -0.3355119526386261 ...\n",
      "  0.4734375774860382 0.5568926334381104 0.5477263927459717]]\n"
     ]
    }
   ],
   "source": [
    "def apply_mean_pooling(array):\n",
    "    pooled = np.mean(array, axis=0)\n",
    "    return pooled\n",
    "\n",
    "# Apply mean pooling to each array in X_audio and X_video\n",
    "X_visual_pooled = np.array([apply_mean_pooling(inner_array) for inner_array in X_visual])\n",
    "X_audio_pooled = np.array([apply_mean_pooling(inner_array) for inner_array in X_audio])\n",
    "\n",
    "\n",
    "print(\"Result of mean pooling for X_video:\")\n",
    "print(X_visual_pooled)\n",
    "print(\"Result of mean pooling for X_audio:\")\n",
    "print(X_audio_pooled)\n",
    "print(\"Result of  X_text:\")\n",
    "print(X_text)"
   ]
  },
  {
   "cell_type": "markdown",
   "id": "f1187c94",
   "metadata": {},
   "source": [
    "##  1c) Performing classification using svc and random forest "
   ]
  },
  {
   "cell_type": "code",
   "execution_count": 5,
   "id": "298fa849",
   "metadata": {},
   "outputs": [
    {
     "name": "stdout",
     "output_type": "stream",
     "text": [
      "F1-micro for Visual Modality: 0.47742837176799446\n",
      "F1-micro for Audio Modality: 0.5785464709993012\n",
      "F1-micro for Text Modality: 0.4851153039832285\n"
     ]
    }
   ],
   "source": [
    "# Split the dataset into training and testing sets for each modality\n",
    "X_visual_train, X_visual_test, y_train, y_test = train_test_split(X_visual_pooled, y, test_size=0.2, random_state=42)\n",
    "X_audio_train, X_audio_test, _, _ = train_test_split(X_audio_pooled, y, test_size=0.2, random_state=42)\n",
    "X_text_train, X_text_test, _, _ = train_test_split(X_text, y, test_size=0.2, random_state=42)\n",
    "\n",
    "# Define oversampling strategy\n",
    "oversampler = RandomOverSampler(random_state=42)\n",
    "\n",
    "# Oversample the training data for each modality\n",
    "X_visual_train_resampled, y_train_resampled = oversampler.fit_resample(X_visual_train, y_train)\n",
    "X_audio_train_resampled, _ = oversampler.fit_resample(X_audio_train, y_train)\n",
    "X_text_train_resampled, _ = oversampler.fit_resample(X_text_train, y_train)\n",
    "\n",
    "# Define classifiers for each modality\n",
    "visual_classifier = SVC()\n",
    "audio_classifier = RandomForestClassifier()\n",
    "text_classifier = SVC()\n",
    "\n",
    "# Define hyperparameter grids for each classifier\n",
    "param_grid_visual = {\n",
    "    'C': [0.1, 1, 10],\n",
    "    'kernel': ['linear', 'rbf', 'poly']\n",
    "}\n",
    "\n",
    "param_grid_audio = {\n",
    "    'n_estimators': [50, 100, 200],\n",
    "    'max_depth': [None, 10, 20]\n",
    "}\n",
    "\n",
    "param_grid_text = {\n",
    "    'C': [0.1, 1, 10],\n",
    "    'kernel': ['linear', 'rbf', 'poly']\n",
    "}\n",
    "\n",
    "# Perform Grid Search for each classifier\n",
    "grid_search_visual = GridSearchCV(visual_classifier, param_grid_visual, cv=5, scoring='f1_micro')\n",
    "grid_search_visual.fit(X_visual_train_resampled, y_train_resampled)\n",
    "\n",
    "grid_search_audio = GridSearchCV(audio_classifier, param_grid_audio, cv=5, scoring='f1_micro')\n",
    "grid_search_audio.fit(X_audio_train_resampled, y_train_resampled)\n",
    "\n",
    "grid_search_text = GridSearchCV(text_classifier, param_grid_text, cv=5, scoring='f1_micro')\n",
    "grid_search_text.fit(X_text_train_resampled, y_train_resampled)\n",
    "\n",
    "# Evaluate each classifier using cross-validation\n",
    "skf = StratifiedKFold(n_splits=5, shuffle=True, random_state=42)\n",
    "\n",
    "visual_cv_scores = cross_val_score(grid_search_visual.best_estimator_, X_visual_test, y_test, cv=skf, scoring='f1_micro')\n",
    "audio_cv_scores = cross_val_score(grid_search_audio.best_estimator_, X_audio_test, y_test, cv=skf, scoring='f1_micro')\n",
    "text_cv_scores = cross_val_score(grid_search_text.best_estimator_, X_text_test, y_test, cv=skf, scoring='f1_micro')\n",
    "\n",
    "# Report results\n",
    "print(\"F1-micro for Visual Modality:\", visual_cv_scores.mean())\n",
    "print(\"F1-micro for Audio Modality:\", audio_cv_scores.mean())\n",
    "print(\"F1-micro for Text Modality:\", text_cv_scores.mean())"
   ]
  },
  {
   "cell_type": "markdown",
   "id": "56c55c06",
   "metadata": {},
   "source": [
    "## 2a)\n",
    "**Observations:** \n",
    "> To handle the problem of class imbalance, several techniques can be applied. In the above code, the *RandomOverSampler* from the imbalanced-learn library is used to address class imbalance. This technique oversamples the minority class by creating duplicates of its samples until the classes are balanced. "
   ]
  },
  {
   "cell_type": "markdown",
   "id": "2fc81673",
   "metadata": {},
   "source": [
    "## 2b) Plotting confusion matrix below for the four different classes"
   ]
  },
  {
   "cell_type": "code",
   "execution_count": 6,
   "id": "f7570dec",
   "metadata": {},
   "outputs": [
    {
     "data": {
      "image/png": "[encoded data removed]",
      "text/plain": [
       "<Figure size 1500x500 with 6 Axes>"
      ]
     },
     "metadata": {},
     "output_type": "display_data"
    }
   ],
   "source": [
    "# Plot confusion matrix for each modality\n",
    "plt.figure(figsize=(15, 5))\n",
    "\n",
    "# Visual Modality\n",
    "plt.subplot(1, 3, 1)\n",
    "y_pred_visual = grid_search_visual.best_estimator_.predict(X_visual_test)\n",
    "conf_mat_visual = confusion_matrix(y_test, y_pred_visual)\n",
    "sns.heatmap(conf_mat_visual, annot=True, fmt='d', cmap='Blues', xticklabels=['anger', 'sadness', 'happiness', 'neutral'], yticklabels=['anger', 'sadness', 'happiness', 'neutral'])\n",
    "plt.title('Confusion Matrix - Visual Modality')\n",
    "\n",
    "# Audio Modality\n",
    "plt.subplot(1, 3, 2)\n",
    "y_pred_audio = grid_search_audio.best_estimator_.predict(X_audio_test)\n",
    "conf_mat_audio = confusion_matrix(y_test, y_pred_audio)\n",
    "sns.heatmap(conf_mat_audio, annot=True, fmt='d', cmap='Blues', xticklabels=['anger', 'sadness', 'happiness', 'neutral'], yticklabels=['anger', 'sadness', 'happiness', 'neutral'])\n",
    "plt.title('Confusion Matrix - Audio Modality')\n",
    "\n",
    "# Text Modality\n",
    "plt.subplot(1, 3, 3)\n",
    "y_pred_text = grid_search_text.best_estimator_.predict(X_text_test)\n",
    "conf_mat_text = confusion_matrix(y_test, y_pred_text)\n",
    "sns.heatmap(conf_mat_text, annot=True, fmt='d', cmap='Blues', xticklabels=['anger', 'sadness', 'happiness', 'neutral'], yticklabels=['anger', 'sadness', 'happiness', 'neutral'])\n",
    "plt.title('Confusion Matrix - Text Modality')\n",
    "\n",
    "plt.tight_layout()\n",
    "plt.show()\n"
   ]
  },
  {
   "cell_type": "markdown",
   "id": "e61b943e",
   "metadata": {},
   "source": [
    "## 3) Early and Late fusion"
   ]
  },
  {
   "cell_type": "code",
   "execution_count": 7,
   "id": "b95feba7",
   "metadata": {},
   "outputs": [
    {
     "name": "stdout",
     "output_type": "stream",
     "text": [
      "Accuracy for Early Fusion: 0.6940298507462687\n",
      "Accuracy for Late Fusion: 0.6716417910447762\n"
     ]
    }
   ],
   "source": [
    "# Define the dictionary to hold training data for each modality\n",
    "X_train_dict = {\n",
    "    'visual': X_visual_train_resampled,\n",
    "    'audio': X_audio_train_resampled,\n",
    "    'text': X_text_train_resampled\n",
    "}\n",
    "\n",
    "# Train unimodal classifiers for each modality\n",
    "unimodal_classifiers = {\n",
    "    'visual': visual_classifier,\n",
    "    'audio': audio_classifier,\n",
    "    'text': text_classifier\n",
    "}\n",
    "\n",
    "# Fit unimodal classifiers\n",
    "for modality, classifier in unimodal_classifiers.items():\n",
    "    classifier.fit(X_train_dict[modality], y_train_resampled)\n",
    "\n",
    "# Early fusion: Combine features from different modalities\n",
    "X_train_early_fusion = np.concatenate((X_visual_train_resampled, X_audio_train_resampled, X_text_train_resampled), axis=1)\n",
    "X_test_early_fusion = np.concatenate((X_visual_test, X_audio_test, X_text_test), axis=1)\n",
    "\n",
    "# Train a classifier using early fused features\n",
    "early_fusion_classifier = SVC()  # Example classifier for early fusion\n",
    "early_fusion_classifier.fit(X_train_early_fusion, y_train_resampled)\n",
    "\n",
    "# Obtain predictions from unimodal classifiers for each modality\n",
    "y_pred_visual = visual_classifier.predict(X_visual_test)\n",
    "y_pred_audio = audio_classifier.predict(X_audio_test)\n",
    "y_pred_text = text_classifier.predict(X_text_test)\n",
    "\n",
    "# Late fusion: Majority vote over the outputs of unimodal models\n",
    "y_pred_late_fusion = []\n",
    "for i in range(len(y_pred_visual)):\n",
    "    # Perform majority voting\n",
    "    majority_vote = max(set([y_pred_visual[i], y_pred_audio[i], y_pred_text[i]]), key=[y_pred_visual[i], y_pred_audio[i], y_pred_text[i]].count)\n",
    "    y_pred_late_fusion.append(majority_vote)\n",
    "\n",
    "# Compare the results for both fusion techniques\n",
    "accuracy_early_fusion = accuracy_score(y_test, early_fusion_classifier.predict(X_test_early_fusion))\n",
    "accuracy_late_fusion = accuracy_score(y_test, y_pred_late_fusion)\n",
    "\n",
    "print(\"Accuracy for Early Fusion:\", accuracy_early_fusion)\n",
    "print(\"Accuracy for Late Fusion:\", accuracy_late_fusion)\n"
   ]
  },
  {
   "cell_type": "markdown",
   "id": "9c71aa21",
   "metadata": {},
   "source": [
    "**Observation of fusions**\n",
    ">Comparing both fusion techniques, we observe that early fusion slightly outperforms late fusion in terms of accuracy. This indicates that combining features from different modalities directly at the feature level (early fusion) provides slightly better classification performance compared to aggregating predictions from unimodal classifiers (late fusion). However, the difference in accuracy between the two fusion techniques is relatively small."
   ]
  },
  {
   "cell_type": "markdown",
   "id": "bda96a3b",
   "metadata": {},
   "source": [
    "## 4)  Interpretation of unimodal and multimodal classification tasks"
   ]
  },
  {
   "cell_type": "markdown",
   "id": "d812648e",
   "metadata": {},
   "source": [
    "**Interpretation:**\n",
    "  >Unimodal classification showed that the audio modality performed the best with and F1 score of 0.57, followed by text and then visual modalities with 0.48 and 0.477 F1 scores respectively.\n",
    "Multimodal classification, particularly early fusion, outperformed unimodal classifiers, likely due to early integration of complementary information.\n",
    "Early fusion likely performed better by leveraging diverse information from multiple modalities, leading to higher accuracy compared to late fusion.\n",
    "These results highlights the advantage of integrating multiple modalities for enhanced classification performance, with early fusion showing the most promising results even though the result of early and late fusion does not differ more in terms of accuracy we still might have to consider other factors to compare indepth."
   ]
  }
 ],
 "metadata": {
  "kernelspec": {
   "display_name": "Python 3 (ipykernel)",
   "language": "python",
   "name": "python3"
  },
  "language_info": {
   "codemirror_mode": {
    "name": "ipython",
    "version": 3
   },
   "file_extension": ".py",
   "mimetype": "text/x-python",
   "name": "python",
   "nbconvert_exporter": "python",
   "pygments_lexer": "ipython3",
   "version": "3.11.5"
  }
 },
 "nbformat": 4,
 "nbformat_minor": 5
}
